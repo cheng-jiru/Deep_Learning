{
 "cells": [
  {
   "cell_type": "code",
   "execution_count": 1,
   "metadata": {
    "collapsed": true
   },
   "outputs": [],
   "source": [
    "#深度学习框架简洁实现线性回归\n",
    "import torch\n",
    "import numpy as np\n",
    "from d2l import torch as d2l\n",
    "from torch.utils import data\n",
    "\n"
   ]
  },
  {
   "cell_type": "code",
   "execution_count": 2,
   "outputs": [],
   "source": [
    "true_w = torch.tensor([2, -3.4])\n",
    "true_b=4.2\n",
    "feartures,labels=d2l.synthetic_data(true_w,true_b,1000)\n"
   ],
   "metadata": {
    "collapsed": false,
    "pycharm": {
     "name": "#%%\n"
    }
   }
  },
  {
   "cell_type": "code",
   "execution_count": 3,
   "outputs": [],
   "source": [
    "#调用框架中现有的API来读取数据\n",
    "def load_array(data_arrays,batch_size,is_train=True):\n",
    "    dataset=data.TensorDataset(*data_arrays)#\n",
    "    return data.DataLoader(dataset,batch_size,shuffle=is_train)"
   ],
   "metadata": {
    "collapsed": false,
    "pycharm": {
     "name": "#%%\n"
    }
   }
  },
  {
   "cell_type": "code",
   "execution_count": 4,
   "outputs": [
    {
     "data": {
      "text/plain": "[tensor([[ 0.9329,  0.6080],\n         [-0.3901,  1.2538],\n         [ 1.6086,  0.3734],\n         [ 0.7082,  0.4475],\n         [ 0.5417,  0.7065],\n         [ 0.0270,  1.0979],\n         [ 0.1818, -0.6080],\n         [ 0.0045, -1.2449],\n         [-0.2873, -0.7833],\n         [ 0.5600,  0.2341]]),\n tensor([[ 3.9894],\n         [-0.8492],\n         [ 6.1301],\n         [ 4.1016],\n         [ 2.8861],\n         [ 0.5404],\n         [ 6.6262],\n         [ 8.4558],\n         [ 6.2989],\n         [ 4.5153]])]"
     },
     "execution_count": 4,
     "metadata": {},
     "output_type": "execute_result"
    }
   ],
   "source": [
    "batch_size=10\n",
    "data_iter=load_array((feartures,labels),batch_size)\n",
    "\n",
    "next(iter(data_iter))\n"
   ],
   "metadata": {
    "collapsed": false,
    "pycharm": {
     "name": "#%%\n"
    }
   }
  },
  {
   "cell_type": "code",
   "execution_count": 5,
   "outputs": [],
   "source": [
    "from torch import nn\n",
    "net=nn.Sequential(nn.Linear(2,1))"
   ],
   "metadata": {
    "collapsed": false,
    "pycharm": {
     "name": "#%%\n"
    }
   }
  },
  {
   "cell_type": "code",
   "execution_count": 6,
   "outputs": [
    {
     "data": {
      "text/plain": "tensor([0.])"
     },
     "execution_count": 6,
     "metadata": {},
     "output_type": "execute_result"
    }
   ],
   "source": [
    "# 初始化模型参数\n",
    "net[0].weight.data.normal_(0, 0.01)\n",
    "net[0].bias.data.fill_(0)\n",
    "\n"
   ],
   "metadata": {
    "collapsed": false,
    "pycharm": {
     "name": "#%%\n"
    }
   }
  },
  {
   "cell_type": "code",
   "execution_count": 8,
   "outputs": [],
   "source": [
    "#计算均方误差\n",
    "loss=nn.MSELoss()\n",
    "\n"
   ],
   "metadata": {
    "collapsed": false,
    "pycharm": {
     "name": "#%%\n"
    }
   }
  },
  {
   "cell_type": "code",
   "execution_count": 9,
   "outputs": [],
   "source": [
    "#定义优化算法\n",
    "trainer=torch.optim.SGD(net.parameters(),lr=0.03)"
   ],
   "metadata": {
    "collapsed": false,
    "pycharm": {
     "name": "#%%\n"
    }
   }
  },
  {
   "cell_type": "code",
   "execution_count": 11,
   "outputs": [
    {
     "name": "stdout",
     "output_type": "stream",
     "text": [
      "epoch1,loss0.000108\n",
      "epoch2,loss0.000107\n",
      "epoch3,loss0.000107\n",
      "epoch4,loss0.000107\n",
      "epoch5,loss0.000107\n",
      "epoch6,loss0.000109\n"
     ]
    }
   ],
   "source": [
    "#训练\n",
    "num_epochs=6\n",
    "for epoch in range(num_epochs):\n",
    "    for X,y in data_iter:\n",
    "        l=loss(net(X),y)\n",
    "        trainer.zero_grad()#梯度清零\n",
    "        l.backward()#反向传播\n",
    "        trainer.step()#更新模型参数\n",
    "    l=loss(net(feartures),labels)\n",
    "    print(f'epoch{epoch+1},loss{l:f}')\n",
    "\n",
    "\n",
    "\n"
   ],
   "metadata": {
    "collapsed": false,
    "pycharm": {
     "name": "#%%\n"
    }
   }
  }
 ],
 "metadata": {
  "kernelspec": {
   "display_name": "Python 3",
   "language": "python",
   "name": "python3"
  },
  "language_info": {
   "codemirror_mode": {
    "name": "ipython",
    "version": 2
   },
   "file_extension": ".py",
   "mimetype": "text/x-python",
   "name": "python",
   "nbconvert_exporter": "python",
   "pygments_lexer": "ipython2",
   "version": "2.7.6"
  }
 },
 "nbformat": 4,
 "nbformat_minor": 0
}